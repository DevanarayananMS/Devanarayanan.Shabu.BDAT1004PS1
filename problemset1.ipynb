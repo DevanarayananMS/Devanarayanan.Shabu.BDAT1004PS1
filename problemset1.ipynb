{
 "cells": [
  {
   "cell_type": "markdown",
   "id": "81eb710d",
   "metadata": {},
   "source": [
    "# Question 1\n",
    "What data type is each of the following (evaluate where necessary)?\n",
    "5\n",
    "\n",
    "5.0\n",
    "\n",
    "5 > 1\n",
    "\n",
    "'5'\n",
    "\n",
    "5 * 2\n",
    "\n",
    "'5' * 2\n",
    "\n",
    "'5' + '2'\n",
    "\n",
    "5 / 2\n",
    "\n",
    "5 % 2\n",
    "\n",
    "{5, 2, 1}\n",
    "\n",
    "5 == 3\n",
    "\n",
    "Pi (the number)\n"
   ]
  },
  {
   "cell_type": "markdown",
   "id": "a851d729",
   "metadata": {},
   "source": [
    "# answers of question 1\n",
    "int\n",
    "\n",
    "float\n",
    "\n",
    "bool\n",
    "\n",
    "str\n",
    "\n",
    "int\n",
    "\n",
    "str\n",
    "\n",
    "str\n",
    "\n",
    "float\n",
    "\n",
    "int\n",
    "\n",
    "set\n",
    "\n",
    "bool\n",
    "\n",
    "float"
   ]
  },
  {
   "cell_type": "markdown",
   "id": "7f445f1f",
   "metadata": {},
   "source": [
    "# Question 2\n",
    "Write (and evaluate) python expressions that answer these questions:\n",
    "\n",
    "a. How many letters are there in 'Supercalifragilisticexpialidocious'?\n",
    "\n",
    "b. Does 'Supercalifragilisticexpialidocious' contain 'ice' as a substring? \n",
    "\n",
    "c. Which of the following words is the longest:\n",
    "Supercalifragilisticexpialidocious, Honorificabilitudinitatibus, or\n",
    "Bababadalgharaghtakamminarronnkonn?\n",
    "\n",
    "d. Which composer comes first in the dictionary: 'Berlioz', 'Borodin', 'Brian',\n",
    "'Bartok', 'Bellini', 'Buxtehude', 'Bernstein'. Which one comes last?"
   ]
  },
  {
   "cell_type": "code",
   "execution_count": 4,
   "id": "fe864435",
   "metadata": {},
   "outputs": [
    {
     "name": "stdout",
     "output_type": "stream",
     "text": [
      "length is 34\n",
      "sub string present\n",
      "longest is Bababadalgharaghtakamminarronnkonn\n",
      "the composer that comes first in dictionary is Bartok\n",
      "the composer that comes last in dictionary is Buxtehude\n"
     ]
    }
   ],
   "source": [
    "a='Supercalifragilisticexpialidocious'\n",
    "length=len(a)\n",
    "print(\"length is \" + str(length))\n",
    "\n",
    "#checking if a string has a certain substring present in it\n",
    "subStringPresent=a.count('ice')\n",
    "if(subStringPresent>0):\n",
    "    print('sub string present')\n",
    "\n",
    "else:\n",
    "    print('subs string not present')\n",
    "\n",
    "\n",
    "\n",
    "#checking which of the string is longest\n",
    "a='Supercalifragilisticexpialidocious'\n",
    "b='Honorificabilitudinitatibus'\n",
    "c='Bababadalgharaghtakamminarronnkonn'\n",
    "if(len(a)>len(b)):\n",
    "\n",
    "    if(len(a)>len(c)):\n",
    "        print(\"longest is \" + a)\n",
    "    else:\n",
    "        print(\"longest is \" + c)\n",
    "elif (len(b) > len(c)):\n",
    "    print(\"longest is \" + b)\n",
    "else:\n",
    "   print(\"longest is \" + c)\n",
    "\n",
    "\n",
    "#which composer comes first in the dictionary\n",
    "a=['Berlioz', 'Borodin', 'Brian', 'Bartok', 'Bellini', 'Buxtehude', 'Bernstein'];\n",
    "a.sort()\n",
    "print(\"the composer that comes first in dictionary is \" + a[0])\n",
    "print(\"the composer that comes last in dictionary is \" + a[len(a)-1])"
   ]
  },
  {
   "cell_type": "markdown",
   "id": "7a2ee521",
   "metadata": {},
   "source": [
    "# Question 3\n",
    "\n",
    "Implement function triangleArea(a,b,c) that takes as input the lengths of the 3\n",
    "sides of a triangle and returns the area of the triangle. By Heron's formula, the area\n",
    "of a triangle with side lengths a, b, and c is\n",
    "s(s - a)(s -b)(s -c)\n",
    ", where\n",
    "s = (a+b+c)/2. \n"
   ]
  },
  {
   "cell_type": "code",
   "execution_count": 3,
   "id": "8d8e2fdf",
   "metadata": {},
   "outputs": [
    {
     "name": "stdout",
     "output_type": "stream",
     "text": [
      "Enter first side: 2\n",
      "Enter second side: 2\n",
      "Enter third side: 2\n",
      "The area of the triangle is 1.73\n"
     ]
    }
   ],
   "source": [
    "a = float(input('Enter first side: '))  \n",
    "b = float(input('Enter second side: '))  \n",
    "c = float(input('Enter third side: '))  \n",
    "s = (a + b + c) / 2   \n",
    "area = (s*(s-a)*(s-b)*(s-c)) ** 0.5  \n",
    "print('The area of the triangle is %0.2f' %area)   \n"
   ]
  },
  {
   "cell_type": "markdown",
   "id": "0de65c8b",
   "metadata": {},
   "source": [
    "# Question 4\n",
    " \n",
    "Write a program in python to separate odd and even integers in separate arrays. Go\n",
    "to the editor\n",
    "Test Data :\n",
    "Input the number of elements to be stored in the array :5\n",
    "Input 5 elements in the array :\n",
    "element - 0 : 25\n",
    "element - 1 : 47\n",
    "element - 2 : 42\n",
    "element - 3 : 56\n",
    "element - 4 : 32\n",
    "Expected Output:\n",
    "The Even elements are:\n",
    "42 56 32\n",
    "The Odd elements are :\n",
    "25 47"
   ]
  },
  {
   "cell_type": "code",
   "execution_count": 6,
   "id": "ed37c438",
   "metadata": {},
   "outputs": [
    {
     "name": "stdout",
     "output_type": "stream",
     "text": [
      "input the number of elements to be stored in array : 5\n",
      "input 5 elements in array\n",
      "element - 0:25\n",
      "element - 1:47\n",
      "element - 2:42\n",
      "element - 3:56\n",
      "element - 4:32\n",
      "the even elements are :\n",
      "[42, 56, 32]\n",
      "the odd elements are\n",
      "[25, 47]\n"
     ]
    }
   ],
   "source": [
    "even=[]\n",
    "odd=[]\n",
    "n=input('input the number of elements to be stored in array : ')\n",
    "print('input '+ n+ \" elements in array\")\n",
    "for i in range(0,int(n)):\n",
    "    temp=int(input(\"element - \" + str(i) + \":\"))\n",
    "    if temp%2==0:\n",
    "        even.append(temp)\n",
    "    else:\n",
    "        odd.append(temp)\n",
    "\n",
    "\n",
    "print(\"the even elements are :\")\n",
    "print(even)\n",
    "print(\"the odd elements are\")\n",
    "print(odd)"
   ]
  },
  {
   "cell_type": "markdown",
   "id": "71824ec8",
   "metadata": {},
   "source": [
    "# Question 5\n",
    "a. Write a function inside(x,y,x1,y1,x2,y2) that returns True or False\n",
    "depending on whether the point (x,y) lies in the rectangle with lower left\n",
    "corner (x1,y1) and upper right corner (x2,y2).\n",
    ">>> inside(1,1,0,0,2,3)\n",
    "True\n",
    ">>> inside(-1,-1,0,0,2,3)\n",
    "False\n"
   ]
  },
  {
   "cell_type": "code",
   "execution_count": 10,
   "id": "98a39e2e",
   "metadata": {},
   "outputs": [
    {
     "name": "stdout",
     "output_type": "stream",
     "text": [
      "false\n"
     ]
    }
   ],
   "source": [
    "def inside(x,y,x1,y1,x2,y2):\n",
    "    if x>x1 and x<x2 and y>y1 and y<y2:\n",
    "        return True\n",
    "    else :\n",
    "        return False\n",
    "\n",
    "inside(-1,-1,0,0,2,3)\n",
    "        "
   ]
  },
  {
   "cell_type": "markdown",
   "id": "13b7c4a3",
   "metadata": {},
   "source": [
    "b. Use function inside() from part a. to write an expression that tests whether\n",
    "the point (1,1) lies in both of the following rectangles: one with lower left\n",
    "corner (0.3, 0.5) and upper right corner (1.1, 0.7) and the other with lower\n",
    "left corner (0.5, 0.2) and upper right corner (1.1, 2). "
   ]
  },
  {
   "cell_type": "code",
   "execution_count": 15,
   "id": "c662a126",
   "metadata": {},
   "outputs": [
    {
     "name": "stdout",
     "output_type": "stream",
     "text": [
      "point does not lie inside both\n"
     ]
    }
   ],
   "source": [
    "def inside(x,y,x1,y1,x2,y2):\n",
    "    if x>x1 and x<x2 and y>y1 and y<y2:\n",
    "        return True\n",
    "    else :\n",
    "        return False\n",
    "    \n",
    "if inside(1,1,0.3,0.5,1.1, 0.7) is True and  inside(1,1,0.5, 0.2,1.1, 2) is True:\n",
    "    print(\"point lies inside\")\n",
    "else:\n",
    "    print(\"point does not lie inside both\")"
   ]
  },
  {
   "cell_type": "markdown",
   "id": "485c20fd",
   "metadata": {},
   "source": [
    "# Question 6\n",
    "16. You can turn a word into pig-Latin using the following two rules (simplified):\n",
    "• If the word starts with a consonant, move that letter to the end and append\n",
    "'ay'. For example, 'happy' becomes 'appyhay' and 'pencil' becomes 'encilpay'.\n",
    "• If the word starts with a vowel, simply append 'way' to the end of the word.\n",
    "For example, 'enter' becomes 'enterway' and 'other' becomes 'otherway' . For\n",
    "our purposes, there are 5 vowels: a, e, i, o, u (so we count y as a consonant).\n",
    "Write a function pig() that takes a word (i.e., a string) as input and returns its pigLatin form. Your function should still work if the input word contains upper case\n",
    "characters. Your output should always be lower case however.\n"
   ]
  },
  {
   "cell_type": "code",
   "execution_count": 24,
   "id": "d8d4404f",
   "metadata": {},
   "outputs": [
    {
     "name": "stdout",
     "output_type": "stream",
     "text": [
      "appyHay\n"
     ]
    }
   ],
   "source": [
    "def  pig(text):\n",
    "    text.casefold()\n",
    "    for j in text:\n",
    "        if j[0] in ['a','e','i','o','u']:\n",
    "            print(text[0:] + 'way')\n",
    "            break\n",
    "        else:\n",
    "            print(text[1:] + text[0] + 'ay')\n",
    "            break\n",
    "            \n",
    "pig('Happy')            "
   ]
  },
  {
   "cell_type": "markdown",
   "id": "499655ab",
   "metadata": {},
   "source": [
    "# Question 9\n",
    "Each of the following will cause an exception (an error). Identify what type of\n",
    "exception each will cause.\n",
    "Trying to add incompatible variables, as in\n",
    "adding 6 + ‘a’\n",
    "Referring to the 12th item of a list that has only 10\n",
    "items\n",
    "Using a value that is out of range for a function’s\n",
    "input, such as calling math.sqrt(-1.0)\n",
    "Using an undeclared variable, such as print(x)\n",
    "when x has not been defined\n",
    "Trying to open a file that does not exist, such as\n",
    "mistyping the file name or looking in the wrong\n",
    "directory. "
   ]
  },
  {
   "cell_type": "code",
   "execution_count": null,
   "id": "5eee7a8c",
   "metadata": {},
   "outputs": [],
   "source": [
    " \n",
    "6 + 'a'\n",
    "#Answer :unsupported operand type(s) for +: 'int' and 'str'"
   ]
  },
  {
   "cell_type": "code",
   "execution_count": null,
   "id": "38cfe3b5",
   "metadata": {},
   "outputs": [],
   "source": [
    "a=[]\n",
    "for i in range(10):\n",
    "    a.append(i)\n",
    "    \n",
    "print(a) \n",
    "\n",
    "a[12]\n",
    "\n",
    "#Answer :list index out of range"
   ]
  },
  {
   "cell_type": "code",
   "execution_count": 33,
   "id": "89289fd5",
   "metadata": {},
   "outputs": [
    {
     "ename": "ValueError",
     "evalue": "math domain error",
     "output_type": "error",
     "traceback": [
      "\u001b[1;31m---------------------------------------------------------------------------\u001b[0m",
      "\u001b[1;31mValueError\u001b[0m                                Traceback (most recent call last)",
      "Input \u001b[1;32mIn [33]\u001b[0m, in \u001b[0;36m<cell line: 2>\u001b[1;34m()\u001b[0m\n\u001b[0;32m      1\u001b[0m \u001b[38;5;28;01mimport\u001b[39;00m \u001b[38;5;21;01mmath\u001b[39;00m\n\u001b[1;32m----> 2\u001b[0m \u001b[43mmath\u001b[49m\u001b[38;5;241;43m.\u001b[39;49m\u001b[43msqrt\u001b[49m\u001b[43m(\u001b[49m\u001b[38;5;241;43m-\u001b[39;49m\u001b[38;5;241;43m1.0\u001b[39;49m\u001b[43m)\u001b[49m\n",
      "\u001b[1;31mValueError\u001b[0m: math domain error"
     ]
    }
   ],
   "source": [
    "import math\n",
    "math.sqrt(-1.0)\n",
    "#Answer: math domain error"
   ]
  },
  {
   "cell_type": "code",
   "execution_count": 34,
   "id": "448244c5",
   "metadata": {},
   "outputs": [
    {
     "ename": "NameError",
     "evalue": "name 'x' is not defined",
     "output_type": "error",
     "traceback": [
      "\u001b[1;31m---------------------------------------------------------------------------\u001b[0m",
      "\u001b[1;31mNameError\u001b[0m                                 Traceback (most recent call last)",
      "Input \u001b[1;32mIn [34]\u001b[0m, in \u001b[0;36m<cell line: 2>\u001b[1;34m()\u001b[0m\n\u001b[0;32m      1\u001b[0m a\u001b[38;5;241m=\u001b[39m \u001b[38;5;241m12\u001b[39m\n\u001b[1;32m----> 2\u001b[0m \u001b[38;5;28mprint\u001b[39m(\u001b[43mx\u001b[49m)\n",
      "\u001b[1;31mNameError\u001b[0m: name 'x' is not defined"
     ]
    }
   ],
   "source": [
    "a= 12\n",
    "print(x)\n",
    "#Answer:name 'x' is not defined"
   ]
  },
  {
   "cell_type": "code",
   "execution_count": null,
   "id": "8d5c5d29",
   "metadata": {},
   "outputs": [],
   "source": [
    "#Trying to open a file that does not exist, such as\n",
    "mistyping the file name or looking in the wrong\n",
    "directory. \n",
    "#Answer:No such file or directory"
   ]
  },
  {
   "cell_type": "code",
   "execution_count": null,
   "id": "805ba5b2",
   "metadata": {},
   "outputs": [],
   "source": []
  }
 ],
 "metadata": {
  "kernelspec": {
   "display_name": "Python 3 (ipykernel)",
   "language": "python",
   "name": "python3"
  },
  "language_info": {
   "codemirror_mode": {
    "name": "ipython",
    "version": 3
   },
   "file_extension": ".py",
   "mimetype": "text/x-python",
   "name": "python",
   "nbconvert_exporter": "python",
   "pygments_lexer": "ipython3",
   "version": "3.9.12"
  }
 },
 "nbformat": 4,
 "nbformat_minor": 5
}
